{
 "cells": [
  {
   "cell_type": "markdown",
   "metadata": {},
   "source": [
    "# Q5 Program to draw Histogram of an Image"
   ]
  },
  {
   "cell_type": "code",
   "execution_count": 11,
   "metadata": {},
   "outputs": [],
   "source": [
    "from PIL import Image\n",
    "import numpy as np\n",
    "import matplotlib.pyplot as plt"
   ]
  },
  {
   "cell_type": "code",
   "execution_count": 12,
   "metadata": {},
   "outputs": [],
   "source": [
    "img=Image.open(\"wave.png\").convert(\"L\")\n",
    "#img.save(\"grayscale_wave.png\")"
   ]
  },
  {
   "cell_type": "code",
   "execution_count": 13,
   "metadata": {},
   "outputs": [
    {
     "name": "stdout",
     "output_type": "stream",
     "text": [
      "197\n",
      "255\n"
     ]
    }
   ],
   "source": [
    "print(img.height)\n",
    "print(img.width)"
   ]
  },
  {
   "cell_type": "code",
   "execution_count": 14,
   "metadata": {},
   "outputs": [],
   "source": [
    "arr1=np.empty([197,255])#to store intensities in matrix\n",
    "arr2=np.empty(256)#store frequencies\n",
    "for x in range (0,256):\n",
    "    arr2[x]=0"
   ]
  },
  {
   "cell_type": "code",
   "execution_count": 15,
   "metadata": {},
   "outputs": [],
   "source": [
    "def histogram(arr1):\n",
    "    for y in range(0,197):\n",
    "        for x in range(0,255):\n",
    "            i=int(arr1[y][x])\n",
    "            arr2[i]=arr2[i]+1\n",
    "    #for x in range(0,256):\n",
    "        #print(arr2[x])"
   ]
  },
  {
   "cell_type": "code",
   "execution_count": 16,
   "metadata": {},
   "outputs": [],
   "source": [
    "for y in range(img.height):\n",
    "    for x in range(img.width):\n",
    "        pixels=img.getpixel((x,y))\n",
    "        arr1[y][x]=pixels\n",
    "\n",
    "histogram(arr1)        "
   ]
  },
  {
   "cell_type": "code",
   "execution_count": 17,
   "metadata": {},
   "outputs": [
    {
     "data": {
      "image/png": "[encoded data removed]",
      "text/plain": [
       "<Figure size 432x288 with 1 Axes>"
      ]
     },
     "metadata": {},
     "output_type": "display_data"
    }
   ],
   "source": [
    "arr3=np.empty(256)\n",
    "for x in range(0,256):# to plot frequency\n",
    "       arr3[x]=x\n",
    "plt.bar(arr3,arr2)\n",
    "plt.title(\"HISTOGRAM OF AN IMAGE\")\n",
    "plt.xlabel(\"Intensity\")\n",
    "plt.ylabel(\"Frequency\")\n",
    "plt.show()"
   ]
  },
  {
   "cell_type": "code",
   "execution_count": null,
   "metadata": {},
   "outputs": [],
   "source": []
  }
 ],
 "metadata": {
  "kernelspec": {
   "display_name": "Python 3",
   "language": "python",
   "name": "python3"
  },
  "language_info": {
   "codemirror_mode": {
    "name": "ipython",
    "version": 3
   },
   "file_extension": ".py",
   "mimetype": "text/x-python",
   "name": "python",
   "nbconvert_exporter": "python",
   "pygments_lexer": "ipython3",
   "version": "3.6.5"
  }
 },
 "nbformat": 4,
 "nbformat_minor": 2
}
