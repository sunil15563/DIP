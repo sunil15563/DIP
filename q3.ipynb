{
 "cells": [
  {
   "cell_type": "markdown",
   "metadata": {},
   "source": [
    "# Q3. Program to implement log transformation of a image"
   ]
  },
  {
   "cell_type": "code",
   "execution_count": 1,
   "metadata": {},
   "outputs": [
    {
     "data": {
      "text/plain": [
       "'\\nlog transform is :\\n-> s = c*log(1+r)\\ns is output image , r is input image \\nc = (L-1)/log(1+|I_max|)\\n'"
      ]
     },
     "execution_count": 1,
     "metadata": {},
     "output_type": "execute_result"
    }
   ],
   "source": [
    "'''\n",
    "log transform is :\n",
    "-> s = c*log(1+r)\n",
    "s is output image , r is input image \n",
    "c = (L-1)/log(1+|I_max|)\n",
    "'''"
   ]
  },
  {
   "cell_type": "code",
   "execution_count": 2,
   "metadata": {},
   "outputs": [],
   "source": [
    "from PIL import Image\n",
    "import math"
   ]
  },
  {
   "cell_type": "code",
   "execution_count": 3,
   "metadata": {},
   "outputs": [],
   "source": [
    "img=Image.open(\"monkey.jpg\")"
   ]
  },
  {
   "cell_type": "code",
   "execution_count": 4,
   "metadata": {},
   "outputs": [],
   "source": [
    "def log_Transform(r):\n",
    "    c=255/math.log((1+255),10)\n",
    "    s=c*math.log((1+r),10)\n",
    "    return s"
   ]
  },
  {
   "cell_type": "code",
   "execution_count": 5,
   "metadata": {},
   "outputs": [],
   "source": [
    "for y in range(img.height):\n",
    "    for x in range(img.width):\n",
    "        current_img=img.getpixel((x,y))\n",
    "        red_pixel=int(log_Transform(current_img[0]))\n",
    "        green_pixel=int(log_Transform(current_img[1]))\n",
    "        blue_pixel=int(log_Transform(current_img[2]))\n",
    "        img.putpixel((x,y),(red_pixel,green_pixel,blue_pixel))\n",
    "img.save(\"monkey_3.png\")        "
   ]
  }
 ],
 "metadata": {
  "kernelspec": {
   "display_name": "Python 3",
   "language": "python",
   "name": "python3"
  },
  "language_info": {
   "codemirror_mode": {
    "name": "ipython",
    "version": 3
   },
   "file_extension": ".py",
   "mimetype": "text/x-python",
   "name": "python",
   "nbconvert_exporter": "python",
   "pygments_lexer": "ipython3",
   "version": "3.7.3"
  }
 },
 "nbformat": 4,
 "nbformat_minor": 2
}
